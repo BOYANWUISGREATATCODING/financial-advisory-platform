{
 "cells": [
  {
   "cell_type": "code",
   "execution_count": 1,
   "metadata": {},
   "outputs": [],
   "source": [
    "import tushare as ts\n",
    "import pandas as pd"
   ]
  },
  {
   "cell_type": "code",
   "execution_count": 2,
   "metadata": {},
   "outputs": [],
   "source": [
    "my_token = '385dd2ce2cba06cccecdacd6c07c292b088441452d1479482622fb91'\n",
    "pro = ts.pro_api(my_token)\n",
    "\n",
    "src_list = ['sina','wallstreetcn','10jqka','eastmoney','yuncaijing']\n",
    "src_dict = {\n",
    "    'sina':'新浪财经',\n",
    "    'wallstreetcn':'华尔街见闻',\n",
    "    '10jqka':'同花顺财经',\n",
    "    'eastmoney':'东方财富',\n",
    "    'yuncaijing':'云财经新闻',\n",
    "    'jinrongjie':'金融界新闻',\n",
    "    'fenghuang':'凤凰新闻'\n",
    "}\n",
    "result = pd.DataFrame(columns = ['datetime', 'content', 'title','src'])"
   ]
  },
  {
   "cell_type": "code",
   "execution_count": 3,
   "metadata": {},
   "outputs": [],
   "source": [
    "for src in src_list:\n",
    "    df = pro.news(src=src, start_date='2024-08-01 00:00:00', end_date='2024-08-12 00:00:00')\n",
    "    df['src'] = src_dict[src]\n",
    "    result = pd.concat([result,df])"
   ]
  },
  {
   "cell_type": "code",
   "execution_count": 14,
   "metadata": {},
   "outputs": [],
   "source": [
    "result = result.reset_index(drop = True)"
   ]
  },
  {
   "cell_type": "code",
   "execution_count": 17,
   "metadata": {},
   "outputs": [],
   "source": [
    "result.to_csv('news.csv',sep='~')"
   ]
  },
  {
   "cell_type": "code",
   "execution_count": null,
   "metadata": {},
   "outputs": [],
   "source": []
  }
 ],
 "metadata": {
  "kernelspec": {
   "display_name": "Python 3.11.7 ('base')",
   "language": "python",
   "name": "python3"
  },
  "language_info": {
   "codemirror_mode": {
    "name": "ipython",
    "version": 3
   },
   "file_extension": ".py",
   "mimetype": "text/x-python",
   "name": "python",
   "nbconvert_exporter": "python",
   "pygments_lexer": "ipython3",
   "version": "3.11.7"
  },
  "orig_nbformat": 4,
  "vscode": {
   "interpreter": {
    "hash": "57bc2b6ce032b5f0e93daa91901b7ea38a856826ef43aa9e95b6d3999f5310df"
   }
  }
 },
 "nbformat": 4,
 "nbformat_minor": 2
}
