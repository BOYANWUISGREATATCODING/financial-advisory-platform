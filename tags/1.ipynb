{
 "cells": [
  {
   "cell_type": "code",
   "execution_count": 17,
   "metadata": {},
   "outputs": [],
   "source": [
    "import pandas as pd\n",
    "import torch.nn.functional as F\n",
    "from transformers import AutoModel, AutoTokenizer\n",
    "from tqdm import tqdm"
   ]
  },
  {
   "cell_type": "code",
   "execution_count": 18,
   "metadata": {},
   "outputs": [],
   "source": [
    "df = pd.read_csv('news.csv',sep = '~')"
   ]
  },
  {
   "cell_type": "code",
   "execution_count": 19,
   "metadata": {},
   "outputs": [],
   "source": [
    "target_sentence = df['content'][0]"
   ]
  },
  {
   "cell_type": "code",
   "execution_count": 20,
   "metadata": {},
   "outputs": [
    {
     "data": {
      "text/plain": [
       "'沙特证交所全股指数收收涨0.90%，报11771.69点。沙特阿美收涨0.72%，报27.95沙特里亚尔。卡塔尔证交所指数收涨0.24%，科威特证交所超级市场价格回报指数收涨0.66%。埃及证交所EGX 30指数收涨2.72%，报29532.67点，逼近4月17日收盘位29667.71点。'"
      ]
     },
     "execution_count": 20,
     "metadata": {},
     "output_type": "execute_result"
    }
   ],
   "source": [
    "target_sentence"
   ]
  },
  {
   "cell_type": "code",
   "execution_count": 1,
   "metadata": {},
   "outputs": [],
   "source": [
    "industry_str = '证券,医疗服务,生物制品,黑色家电,多元金融,软件开发,自动化设备,影视院线,旅游及酒店,能源金属,电机,厨卫电器,医疗器械,教育,美容护理,化学制药,电池,文化传媒,白酒,工业金属,食品加工制造,半导体,光伏设备,游戏,电子化学品,化学纤维,保险,煤炭开采加工,小金属,汽车零部件,白色家电,IT服务,工程机械,中药,通用设备,化学制品,其他社会服务,互联网电商,小家电,金属新材料,机场航运,光学光电子,专用设备,包装印刷,家居用品,纺织制造,贵金属,其他电源设备,塑料制品,化学原料,油气开采及服务,房地产,橡胶制品,造纸,通信设备,服装家纺,计算机设备,农化制品,消费电子,饮料制造,养殖业,环保设备,电网设备,物流,石油加工贸易'\n",
    "ele_dict = {\n",
    "    '现货市场':[\n",
    "        '贵金属',\n",
    "        '石油',\n",
    "    ],\n",
    "    '金融市场':[\n",
    "        '外汇',\n",
    "        '期货',\n",
    "        '数字货币',\n",
    "        '债券',\n",
    "        '货币',\n",
    "        'ETF',\n",
    "        ''\n",
    "    ],\n",
    "    '行业':industry_str.split(','),\n",
    "    '地区市场':[\n",
    "      'A股',\n",
    "      '港股',\n",
    "      '美股',  \n",
    "    ],\n",
    "    '宏观':[\n",
    "        '地缘局势',\n",
    "        '人物',\n",
    "        '经济数据',\n",
    "        '政策',\n",
    "        '央行',\n",
    "        '灾害事故'\n",
    "    ],\n",
    "    '微观':[\n",
    "        '公司',\n",
    "        '基金',\n",
    "        '投行机构'\n",
    "    ]\n",
    "}\n",
    "belong_index = {}\n",
    "tags = []\n",
    "for key,value in ele_dict.items():\n",
    "    tags.append(value)\n",
    "    for element in value:\n",
    "        belong_index[element] = key"
   ]
  },
  {
   "cell_type": "code",
   "execution_count": 3,
   "metadata": {},
   "outputs": [],
   "source": [
    "# ele_dict['行业']\n",
    "# for i in range(len(ele_dict['行业'])):\n",
    "#     print(f\"getItem('{ele_dict['行业'][i]}','{18+i}'),\")\n",
    "del ele_dict['行业']"
   ]
  },
  {
   "cell_type": "code",
   "execution_count": 4,
   "metadata": {},
   "outputs": [
    {
     "data": {
      "text/plain": [
       "{'现货市场': ['贵金属', '石油'],\n",
       " '金融市场': ['外汇', '期货', '数字货币', '债券', '货币', 'ETF', ''],\n",
       " '地区市场': ['A股', '港股', '美股'],\n",
       " '宏观': ['地缘局势', '人物', '经济数据', '政策', '央行', '灾害事故'],\n",
       " '微观': ['公司', '基金', '投行机构']}"
      ]
     },
     "execution_count": 4,
     "metadata": {},
     "output_type": "execute_result"
    }
   ],
   "source": [
    "ele_dict"
   ]
  },
  {
   "cell_type": "code",
   "execution_count": 23,
   "metadata": {},
   "outputs": [
    {
     "name": "stderr",
     "output_type": "stream",
     "text": [
      "Some weights of the model checkpoint at Alibaba-NLP/gte-multilingual-base were not used when initializing NewModel: ['classifier.bias', 'classifier.weight']\n",
      "- This IS expected if you are initializing NewModel from the checkpoint of a model trained on another task or with another architecture (e.g. initializing a BertForSequenceClassification model from a BertForPreTraining model).\n",
      "- This IS NOT expected if you are initializing NewModel from the checkpoint of a model that you expect to be exactly identical (initializing a BertForSequenceClassification model from a BertForSequenceClassification model).\n"
     ]
    }
   ],
   "source": [
    "model_name_or_path = 'Alibaba-NLP/gte-multilingual-base'\n",
    "tokenizer = AutoTokenizer.from_pretrained(model_name_or_path)\n",
    "model = AutoModel.from_pretrained(model_name_or_path, trust_remote_code=True)"
   ]
  },
  {
   "cell_type": "code",
   "execution_count": 24,
   "metadata": {},
   "outputs": [],
   "source": [
    "# input_texts = [target_sentence] + ele_dict['市场']\n",
    "# input_texts"
   ]
  },
  {
   "cell_type": "code",
   "execution_count": 25,
   "metadata": {},
   "outputs": [],
   "source": [
    "import torch\n",
    "device = torch.device('cuda:0')\n",
    "model.to(device)\n",
    "\n",
    "def cacu(target_sentence,tag_list):\n",
    "    sentences = target_sentence + tag_list\n",
    "    batch_dict = tokenizer(sentences, max_length=500, padding=True, truncation=True, return_tensors='pt')\n",
    "\n",
    "    batch_dict.to(device)\n",
    "    outputs = model(**batch_dict)\n",
    "\n",
    "    dimension=768 # The output dimension of the output embedding, should be in [128, 768]\n",
    "    embeddings = outputs.last_hidden_state[:, 0][:dimension]\n",
    "\n",
    "    embeddings = F.normalize(embeddings, p=2, dim=1)\n",
    "    scores = (embeddings[:1] @ embeddings[1:].T) * 100\n",
    "    # print(similarities)\n",
    "    temp = scores.tolist()[0]\n",
    "    # print(temp)\n",
    "    max_score = max(temp)\n",
    "    return tag_list[temp.index(max_score)]"
   ]
  },
  {
   "cell_type": "code",
   "execution_count": 26,
   "metadata": {},
   "outputs": [
    {
     "name": "stderr",
     "output_type": "stream",
     "text": [
      "100%|██████████| 7000/7000 [2:32:31<00:00,  1.31s/it]  \n"
     ]
    }
   ],
   "source": [
    "ans_dic = {'主题':[],'行业':[]}\n",
    "# df = df.head(10)\n",
    "# for key in ele_dict.keys():\n",
    "#     ans_dic[key] = []\n",
    "temp = []\n",
    "keys = ['现货市场','金融市场','地区市场','宏观','微观']\n",
    "for key in keys:\n",
    "    temp = temp + ele_dict[key]\n",
    "ele_dict['主题'] = temp\n",
    "for i in tqdm(range(len(df))):\n",
    "    target_sentence = df['content'][i]\n",
    "    # print(i)\n",
    "    # print(i,target_sentence)\n",
    "    for key in ans_dic.keys():\n",
    "        tag_list = ele_dict[key]\n",
    "        t = cacu([target_sentence],tag_list)\n",
    "        # print(key,t)\n",
    "        ans_dic[key].append(t)"
   ]
  },
  {
   "cell_type": "code",
   "execution_count": 28,
   "metadata": {},
   "outputs": [],
   "source": [
    "for key in ans_dic.keys():\n",
    "    df[key] = ans_dic[key]"
   ]
  },
  {
   "cell_type": "code",
   "execution_count": 29,
   "metadata": {},
   "outputs": [],
   "source": [
    "df.loc[:,'datetime':].to_csv('news_with_tags.csv',sep='~')"
   ]
  },
  {
   "cell_type": "code",
   "execution_count": null,
   "metadata": {},
   "outputs": [],
   "source": []
  }
 ],
 "metadata": {
  "kernelspec": {
   "display_name": "Python 3.11.7 ('base')",
   "language": "python",
   "name": "python3"
  },
  "language_info": {
   "codemirror_mode": {
    "name": "ipython",
    "version": 3
   },
   "file_extension": ".py",
   "mimetype": "text/x-python",
   "name": "python",
   "nbconvert_exporter": "python",
   "pygments_lexer": "ipython3",
   "version": "3.9.2"
  },
  "orig_nbformat": 4,
  "vscode": {
   "interpreter": {
    "hash": "57bc2b6ce032b5f0e93daa91901b7ea38a856826ef43aa9e95b6d3999f5310df"
   }
  }
 },
 "nbformat": 4,
 "nbformat_minor": 2
}
